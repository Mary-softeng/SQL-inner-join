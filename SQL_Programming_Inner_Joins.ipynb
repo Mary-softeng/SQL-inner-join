{
  "nbformat": 4,
  "nbformat_minor": 0,
  "metadata": {
    "colab": {
      "name": "SQL Programming - Inner Joins",
      "provenance": [],
      "collapsed_sections": [
        "ctxn0NRtBP_N",
        "NInIeBPRBUjy",
        "aC5B9W7MBxN2",
        "G5YSZtRrCQ2_"
      ]
    },
    "kernelspec": {
      "name": "python3",
      "display_name": "Python 3"
    }
  },
  "cells": [
    {
      "cell_type": "markdown",
      "metadata": {
        "id": "H6KrxhPuBI1j"
      },
      "source": [
        "# SQL Programming - Inner Joins"
      ]
    },
    {
      "cell_type": "markdown",
      "metadata": {
        "id": "ctxn0NRtBP_N"
      },
      "source": [
        "## 1.0 Lets connect to our Database"
      ]
    },
    {
      "cell_type": "code",
      "metadata": {
        "id": "3tISouHVFsEI",
        "colab": {
          "base_uri": "https://localhost:8080/",
          "height": 36
        },
        "outputId": "e2fe2ede-8beb-4279-e589-d9af29ccec62"
      },
      "source": [
        "# We will first load the sql extension into our environment\n",
        "%load_ext sql\n",
        "\n",
        "# Then connect to our in memory sqlite database\n",
        "# NB: This database will cease to exist as soon as the database connection is closed. \n",
        "%sql sqlite://"
      ],
      "execution_count": null,
      "outputs": [
        {
          "output_type": "execute_result",
          "data": {
            "application/vnd.google.colaboratory.intrinsic+json": {
              "type": "string"
            },
            "text/plain": [
              "'Connected: @None'"
            ]
          },
          "metadata": {},
          "execution_count": 1
        }
      ]
    },
    {
      "cell_type": "code",
      "metadata": {
        "id": "5Wr95CMAGocI"
      },
      "source": [
        "# Importing Pandas\n",
        "import pandas as pd"
      ],
      "execution_count": null,
      "outputs": []
    },
    {
      "cell_type": "markdown",
      "metadata": {
        "id": "NInIeBPRBUjy"
      },
      "source": [
        "## 1.1 Loading our Datasets"
      ]
    },
    {
      "cell_type": "markdown",
      "metadata": {
        "id": "0LrTLsUj2BEU"
      },
      "source": [
        "Datasets used in this notebook:\n",
        "\n",
        "\n",
        "1.   **Countries**\n",
        "\n",
        "> Dataset of European Countries. ([Dataset Download Link](https://drive.google.com/a/moringaschool.com/file/d/1Vz0URHRmUsG17fpzWa02RsCBI2TbPXeV/view?usp=sharing))\n",
        "\n",
        "2.   **Cities** \n",
        "\n",
        "> Dataset of European Cities. ([Dataset Download Link](https://drive.google.com/a/moringaschool.com/file/d/1-S8sact6Ae-A06wntUmBBlr5NH43VLY0/view?usp=sharing))\n",
        "\n",
        "\n",
        "\n",
        "\n"
      ]
    },
    {
      "cell_type": "code",
      "metadata": {
        "id": "V6dOOEhyAweA",
        "colab": {
          "base_uri": "https://localhost:8080/",
          "height": 228
        },
        "outputId": "4bebc1d2-955c-4f27-e45e-d06fc182f4cd"
      },
      "source": [
        "# Let's load our Countries dataset below\n",
        "# \n",
        "with open('Countries.csv','r') as f:\n",
        "    Countries = pd.read_csv(f, index_col=0, encoding='utf-8')\n",
        "%sql DROP TABLE if EXISTS Countries;\n",
        "%sql PERSIST Countries;\n",
        "%sql SELECT * FROM Countries LIMIT 5;"
      ],
      "execution_count": null,
      "outputs": [
        {
          "output_type": "stream",
          "name": "stdout",
          "text": [
            " * sqlite://\n",
            "Done.\n",
            " * sqlite://\n",
            " * sqlite://\n",
            "Done.\n"
          ]
        },
        {
          "output_type": "execute_result",
          "data": {
            "text/html": [
              "<table>\n",
              "    <thead>\n",
              "        <tr>\n",
              "            <th>country</th>\n",
              "            <th>population</th>\n",
              "            <th>EU</th>\n",
              "            <th>coastline</th>\n",
              "        </tr>\n",
              "    </thead>\n",
              "    <tbody>\n",
              "        <tr>\n",
              "            <td>Albania</td>\n",
              "            <td>2.9</td>\n",
              "            <td>no</td>\n",
              "            <td>yes</td>\n",
              "        </tr>\n",
              "        <tr>\n",
              "            <td>Andorra</td>\n",
              "            <td>0.07</td>\n",
              "            <td>no</td>\n",
              "            <td>no</td>\n",
              "        </tr>\n",
              "        <tr>\n",
              "            <td>Austria</td>\n",
              "            <td>8.57</td>\n",
              "            <td>yes</td>\n",
              "            <td>no</td>\n",
              "        </tr>\n",
              "        <tr>\n",
              "            <td>Belarus</td>\n",
              "            <td>9.48</td>\n",
              "            <td>no</td>\n",
              "            <td>no</td>\n",
              "        </tr>\n",
              "        <tr>\n",
              "            <td>Belgium</td>\n",
              "            <td>11.37</td>\n",
              "            <td>yes</td>\n",
              "            <td>yes</td>\n",
              "        </tr>\n",
              "    </tbody>\n",
              "</table>"
            ],
            "text/plain": [
              "[('Albania', 2.9, 'no', 'yes'),\n",
              " ('Andorra', 0.07, 'no', 'no'),\n",
              " ('Austria', 8.57, 'yes', 'no'),\n",
              " ('Belarus', 9.48, 'no', 'no'),\n",
              " ('Belgium', 11.37, 'yes', 'yes')]"
            ]
          },
          "metadata": {},
          "execution_count": 3
        }
      ]
    },
    {
      "cell_type": "code",
      "metadata": {
        "id": "RYXnHNRnA1hP",
        "colab": {
          "base_uri": "https://localhost:8080/",
          "height": 228
        },
        "outputId": "135e5df4-c7da-4a7d-cdff-d58d3907c539"
      },
      "source": [
        "# Let's load our Cities dataset below\n",
        "#\n",
        "with open('Cities.csv','r') as f:\n",
        "    Cities = pd.read_csv(f, index_col=0, encoding='utf-8')\n",
        "%sql DROP TABLE if EXISTS Cities;\n",
        "%sql PERSIST Cities;\n",
        "%sql SELECT * FROM Cities LIMIT 5;"
      ],
      "execution_count": null,
      "outputs": [
        {
          "output_type": "stream",
          "name": "stdout",
          "text": [
            " * sqlite://\n",
            "Done.\n",
            " * sqlite://\n",
            " * sqlite://\n",
            "Done.\n"
          ]
        },
        {
          "output_type": "execute_result",
          "data": {
            "text/html": [
              "<table>\n",
              "    <thead>\n",
              "        <tr>\n",
              "            <th>city</th>\n",
              "            <th>country</th>\n",
              "            <th>latitude</th>\n",
              "            <th>longitude</th>\n",
              "            <th>temperature</th>\n",
              "        </tr>\n",
              "    </thead>\n",
              "    <tbody>\n",
              "        <tr>\n",
              "            <td>Aalborg</td>\n",
              "            <td>Denmark</td>\n",
              "            <td>57.03</td>\n",
              "            <td>9.92</td>\n",
              "            <td>7.52</td>\n",
              "        </tr>\n",
              "        <tr>\n",
              "            <td>Aberdeen</td>\n",
              "            <td>United Kingdom</td>\n",
              "            <td>57.17</td>\n",
              "            <td>-2.08</td>\n",
              "            <td>8.1</td>\n",
              "        </tr>\n",
              "        <tr>\n",
              "            <td>Abisko</td>\n",
              "            <td>Sweden</td>\n",
              "            <td>63.35</td>\n",
              "            <td>18.83</td>\n",
              "            <td>0.2</td>\n",
              "        </tr>\n",
              "        <tr>\n",
              "            <td>Adana</td>\n",
              "            <td>Turkey</td>\n",
              "            <td>36.99</td>\n",
              "            <td>35.32</td>\n",
              "            <td>18.67</td>\n",
              "        </tr>\n",
              "        <tr>\n",
              "            <td>Albacete</td>\n",
              "            <td>Spain</td>\n",
              "            <td>39.0</td>\n",
              "            <td>-1.87</td>\n",
              "            <td>12.62</td>\n",
              "        </tr>\n",
              "    </tbody>\n",
              "</table>"
            ],
            "text/plain": [
              "[('Aalborg', 'Denmark', 57.03, 9.92, 7.52),\n",
              " ('Aberdeen', 'United Kingdom', 57.17, -2.08, 8.1),\n",
              " ('Abisko', 'Sweden', 63.35, 18.83, 0.2),\n",
              " ('Adana', 'Turkey', 36.99, 35.32, 18.67),\n",
              " ('Albacete', 'Spain', 39.0, -1.87, 12.62)]"
            ]
          },
          "metadata": {},
          "execution_count": 4
        }
      ]
    },
    {
      "cell_type": "markdown",
      "metadata": {
        "id": "aC5B9W7MBxN2"
      },
      "source": [
        "## 1.2 Getting Started"
      ]
    },
    {
      "cell_type": "markdown",
      "metadata": {
        "id": "0sZIvColA9NC"
      },
      "source": [
        "Let's try to learn from the given example below, then apply our learnings to the given challenges using the **`INNER JOIN`** statement;"
      ]
    },
    {
      "cell_type": "code",
      "metadata": {
        "id": "EhwHqiCxCQUu",
        "colab": {
          "base_uri": "https://localhost:8080/",
          "height": 280
        },
        "outputId": "95ea61ed-4f50-458d-b5e6-452e30cf1434"
      },
      "source": [
        "# Example 1 \n",
        "# First let's look at the syntax code for the inner join statement\n",
        "# \n",
        "# SELECT <Column names>\n",
        "# FROM table1 INNER JOIN table2\n",
        "# ON table1.column_name = table2.column_name\n",
        "# \n",
        "# On the first line, we select the columns from which we want to join. This columns can be from both tables.\n",
        "# On the second line, we explicitly declare the tables we are joining.\n",
        "# on the third line, we give the search condition. Remember, for us to be able to do inner join or any type of join, there must be a column that is a match in both tables. \n",
        "# So the search condition simply tells SQL the column that is the same in both tables\n",
        "\n",
        "\n",
        "# Let's find all the cities with latitude < 50 in a country with population < 5; \n",
        "# and return the city, country, and population, sorted by country\n",
        "# \n",
        "%%sql\n",
        "SELECT city, Cities.country, population\n",
        "FROM Cities INNER JOIN Countries\n",
        "     ON Cities.country = Countries.country\n",
        "WHERE latitude < 50 AND population < 5\n",
        "ORDER BY Cities.country"
      ],
      "execution_count": null,
      "outputs": [
        {
          "output_type": "stream",
          "name": "stdout",
          "text": [
            " * sqlite://\n",
            "Done.\n"
          ]
        },
        {
          "output_type": "execute_result",
          "data": {
            "text/html": [
              "<table>\n",
              "    <thead>\n",
              "        <tr>\n",
              "            <th>city</th>\n",
              "            <th>country</th>\n",
              "            <th>population</th>\n",
              "        </tr>\n",
              "    </thead>\n",
              "    <tbody>\n",
              "        <tr>\n",
              "            <td>Elbasan</td>\n",
              "            <td>Albania</td>\n",
              "            <td>2.9</td>\n",
              "        </tr>\n",
              "        <tr>\n",
              "            <td>Andorra</td>\n",
              "            <td>Andorra</td>\n",
              "            <td>0.07</td>\n",
              "        </tr>\n",
              "        <tr>\n",
              "            <td>Sarajevo</td>\n",
              "            <td>Bosnia and Herzegovina</td>\n",
              "            <td>3.8</td>\n",
              "        </tr>\n",
              "        <tr>\n",
              "            <td>Rijeka</td>\n",
              "            <td>Croatia</td>\n",
              "            <td>4.23</td>\n",
              "        </tr>\n",
              "        <tr>\n",
              "            <td>Split</td>\n",
              "            <td>Croatia</td>\n",
              "            <td>4.23</td>\n",
              "        </tr>\n",
              "        <tr>\n",
              "            <td>Skopje</td>\n",
              "            <td>Macedonia</td>\n",
              "            <td>2.08</td>\n",
              "        </tr>\n",
              "        <tr>\n",
              "            <td>Balti</td>\n",
              "            <td>Moldova</td>\n",
              "            <td>4.06</td>\n",
              "        </tr>\n",
              "        <tr>\n",
              "            <td>Chisinau</td>\n",
              "            <td>Moldova</td>\n",
              "            <td>4.06</td>\n",
              "        </tr>\n",
              "        <tr>\n",
              "            <td>Podgorica</td>\n",
              "            <td>Montenegro</td>\n",
              "            <td>0.63</td>\n",
              "        </tr>\n",
              "        <tr>\n",
              "            <td>Ljubljana</td>\n",
              "            <td>Slovenia</td>\n",
              "            <td>2.07</td>\n",
              "        </tr>\n",
              "    </tbody>\n",
              "</table>"
            ],
            "text/plain": [
              "[('Elbasan', 'Albania', 2.9),\n",
              " ('Andorra', 'Andorra', 0.07),\n",
              " ('Sarajevo', 'Bosnia and Herzegovina', 3.8),\n",
              " ('Rijeka', 'Croatia', 4.23),\n",
              " ('Split', 'Croatia', 4.23),\n",
              " ('Skopje', 'Macedonia', 2.08),\n",
              " ('Balti', 'Moldova', 4.06),\n",
              " ('Chisinau', 'Moldova', 4.06),\n",
              " ('Podgorica', 'Montenegro', 0.63),\n",
              " ('Ljubljana', 'Slovenia', 2.07)]"
            ]
          },
          "metadata": {},
          "execution_count": 5
        }
      ]
    },
    {
      "cell_type": "markdown",
      "metadata": {
        "id": "G5YSZtRrCQ2_"
      },
      "source": [
        "### <font color=\"green\">1.2 Challenges</font>"
      ]
    },
    {
      "cell_type": "code",
      "metadata": {
        "id": "0cy1E0ghCP0K",
        "colab": {
          "base_uri": "https://localhost:8080/",
          "height": 115
        },
        "outputId": "deecdbef-e092-438d-f1bc-837efb69375b"
      },
      "source": [
        "# Challenge 1\n",
        "# Let's find a city with temperature > 10 that belongs to the EU and doesn't have a coastline, \n",
        "# returning the city, coastline and ordered by temperature\n",
        "#\n",
        "%%sql \n",
        "SELECT city,Cities.country,temperature\n",
        "FROM Cities INNER JOIN Countries ON Cities.country = Countries.country\n",
        "WHERE temperature > 10 AND coastline =\"no\" ORDER BY temperature\n"
      ],
      "execution_count": null,
      "outputs": [
        {
          "output_type": "stream",
          "name": "stdout",
          "text": [
            " * sqlite://\n",
            "Done.\n"
          ]
        },
        {
          "output_type": "execute_result",
          "data": {
            "text/html": [
              "<table>\n",
              "    <thead>\n",
              "        <tr>\n",
              "            <th>city</th>\n",
              "            <th>country</th>\n",
              "            <th>temperature</th>\n",
              "        </tr>\n",
              "    </thead>\n",
              "    <tbody>\n",
              "        <tr>\n",
              "            <td>Novi Sad</td>\n",
              "            <td>Serbia</td>\n",
              "            <td>10.34</td>\n",
              "        </tr>\n",
              "        <tr>\n",
              "            <td>Szeged</td>\n",
              "            <td>Hungary</td>\n",
              "            <td>10.34</td>\n",
              "        </tr>\n",
              "    </tbody>\n",
              "</table>"
            ],
            "text/plain": [
              "[('Novi Sad', 'Serbia', 10.34), ('Szeged', 'Hungary', 10.34)]"
            ]
          },
          "metadata": {},
          "execution_count": 6
        }
      ]
    },
    {
      "cell_type": "code",
      "metadata": {
        "id": "vovDcZBACPsi",
        "colab": {
          "base_uri": "https://localhost:8080/",
          "height": 217
        },
        "outputId": "36a23b09-7c32-4592-a3dc-5a36d6dfc859"
      },
      "source": [
        "# Challenge 2\n",
        "# Let's find all cities with latitude > 45 in a country with no coastline and with population > 9,\n",
        "# returning the city, country, latitude, and whether it's in the EU.\n",
        "#\n",
        "%%sql\n",
        "SELECT city,Cities.country,latitude \n",
        "FROM Cities INNER JOIN Countries ON Cities.country = Countries.country\n",
        "WHERE latitude > 45 AND coastline =\"no\" AND population > 9 AND EU=\"yes\";"
      ],
      "execution_count": null,
      "outputs": [
        {
          "output_type": "stream",
          "name": "stdout",
          "text": [
            " * sqlite://\n",
            "Done.\n"
          ]
        },
        {
          "output_type": "execute_result",
          "data": {
            "text/html": [
              "<table>\n",
              "    <thead>\n",
              "        <tr>\n",
              "            <th>city</th>\n",
              "            <th>country</th>\n",
              "            <th>latitude</th>\n",
              "        </tr>\n",
              "    </thead>\n",
              "    <tbody>\n",
              "        <tr>\n",
              "            <td>Brno</td>\n",
              "            <td>Czech Republic</td>\n",
              "            <td>49.2</td>\n",
              "        </tr>\n",
              "        <tr>\n",
              "            <td>Budapest</td>\n",
              "            <td>Hungary</td>\n",
              "            <td>47.5</td>\n",
              "        </tr>\n",
              "        <tr>\n",
              "            <td>Debrecen</td>\n",
              "            <td>Hungary</td>\n",
              "            <td>47.53</td>\n",
              "        </tr>\n",
              "        <tr>\n",
              "            <td>Gyor</td>\n",
              "            <td>Hungary</td>\n",
              "            <td>47.7</td>\n",
              "        </tr>\n",
              "        <tr>\n",
              "            <td>Ostrava</td>\n",
              "            <td>Czech Republic</td>\n",
              "            <td>49.83</td>\n",
              "        </tr>\n",
              "        <tr>\n",
              "            <td>Prague</td>\n",
              "            <td>Czech Republic</td>\n",
              "            <td>50.08</td>\n",
              "        </tr>\n",
              "        <tr>\n",
              "            <td>Szeged</td>\n",
              "            <td>Hungary</td>\n",
              "            <td>46.25</td>\n",
              "        </tr>\n",
              "    </tbody>\n",
              "</table>"
            ],
            "text/plain": [
              "[('Brno', 'Czech Republic', 49.2),\n",
              " ('Budapest', 'Hungary', 47.5),\n",
              " ('Debrecen', 'Hungary', 47.53),\n",
              " ('Gyor', 'Hungary', 47.7),\n",
              " ('Ostrava', 'Czech Republic', 49.83),\n",
              " ('Prague', 'Czech Republic', 50.08),\n",
              " ('Szeged', 'Hungary', 46.25)]"
            ]
          },
          "metadata": {},
          "execution_count": 14
        }
      ]
    },
    {
      "cell_type": "code",
      "metadata": {
        "id": "n5KCLKwLCPlJ",
        "colab": {
          "base_uri": "https://localhost:8080/",
          "height": 93
        },
        "outputId": "a0360a6c-a1e2-4fec-d1c6-04b06a455c10"
      },
      "source": [
        "# Challenge 3\n",
        "# Let's find the average temperature of non-european cities with a latitude > 45\n",
        "# \n",
        "%%sql\n",
        "SELECT AVG(temperature) \n",
        "FROM Cities INNER JOIN Countries ON Cities.country = Countries.country\n",
        "WHERE EU=\"no\" AND latitude > 45;"
      ],
      "execution_count": null,
      "outputs": [
        {
          "output_type": "stream",
          "name": "stdout",
          "text": [
            " * sqlite://\n",
            "Done.\n"
          ]
        },
        {
          "output_type": "execute_result",
          "data": {
            "text/html": [
              "<table>\n",
              "    <thead>\n",
              "        <tr>\n",
              "            <th>AVG(temperature)</th>\n",
              "        </tr>\n",
              "    </thead>\n",
              "    <tbody>\n",
              "        <tr>\n",
              "            <td>6.704375</td>\n",
              "        </tr>\n",
              "    </tbody>\n",
              "</table>"
            ],
            "text/plain": [
              "[(6.704375,)]"
            ]
          },
          "metadata": {},
          "execution_count": 16
        }
      ]
    },
    {
      "cell_type": "code",
      "metadata": {
        "id": "qjyFMunjFUql",
        "colab": {
          "base_uri": "https://localhost:8080/",
          "height": 93
        },
        "outputId": "4eada482-e954-48f9-fe80-f0e1c2c31060"
      },
      "source": [
        "# Challenge 4 \n",
        "# Let's find minimum and maxiumum temperature of european cities with latitude > 45\n",
        "# \n",
        "%%sql\n",
        "SELECT city, MAX(temperature) AND MIN(temperature)\n",
        "FROM Cities INNER JOIN Countries ON Cities.country = Countries.country\n",
        "WHERE EU=\"yes\" AND latitude > 45;"
      ],
      "execution_count": null,
      "outputs": [
        {
          "output_type": "stream",
          "name": "stdout",
          "text": [
            " * sqlite://\n",
            "Done.\n"
          ]
        },
        {
          "output_type": "execute_result",
          "data": {
            "text/html": [
              "<table>\n",
              "    <thead>\n",
              "        <tr>\n",
              "            <th>city</th>\n",
              "            <th>MAX(temperature) AND MIN(temperature)</th>\n",
              "        </tr>\n",
              "    </thead>\n",
              "    <tbody>\n",
              "        <tr>\n",
              "            <td>Kiruna</td>\n",
              "            <td>1</td>\n",
              "        </tr>\n",
              "    </tbody>\n",
              "</table>"
            ],
            "text/plain": [
              "[('Kiruna', 1)]"
            ]
          },
          "metadata": {},
          "execution_count": 25
        }
      ]
    },
    {
      "cell_type": "code",
      "metadata": {
        "id": "G62GzfLrFsr9",
        "colab": {
          "base_uri": "https://localhost:8080/",
          "height": 93
        },
        "outputId": "9bb58d09-abc0-4003-d525-b5871af46582"
      },
      "source": [
        "# Challenge 5\n",
        "# Let's find the number of european cities with a latitude > 45\n",
        "# \n",
        "%%sql\n",
        "SELECT COUNT(city) \n",
        "FROM Cities INNER JOIN Countries ON Cities.country = Countries.country\n",
        "WHERE EU=\"yes\" AND latitude > 45;"
      ],
      "execution_count": null,
      "outputs": [
        {
          "output_type": "stream",
          "name": "stdout",
          "text": [
            " * sqlite://\n",
            "Done.\n"
          ]
        },
        {
          "output_type": "execute_result",
          "data": {
            "text/html": [
              "<table>\n",
              "    <thead>\n",
              "        <tr>\n",
              "            <th>COUNT(city)</th>\n",
              "        </tr>\n",
              "    </thead>\n",
              "    <tbody>\n",
              "        <tr>\n",
              "            <td>99</td>\n",
              "        </tr>\n",
              "    </tbody>\n",
              "</table>"
            ],
            "text/plain": [
              "[(99,)]"
            ]
          },
          "metadata": {},
          "execution_count": 26
        }
      ]
    },
    {
      "cell_type": "code",
      "metadata": {
        "id": "TauKr2s3Ib-A"
      },
      "source": [
        "# Challenge 6\n",
        "# Which european cities belong to a country with a coastline?\n",
        "# \n",
        "%%sql\n",
        "SELECT city \n",
        "FROM Cities INNER JOIN Countries ON Cities.country = Countries.country\n",
        "WHERE EU=\"yes\" AND coastline=\"yes\";"
      ],
      "execution_count": null,
      "outputs": []
    },
    {
      "cell_type": "code",
      "source": [
        ""
      ],
      "metadata": {
        "id": "s8smowh6xQiU"
      },
      "execution_count": null,
      "outputs": []
    }
  ]
}